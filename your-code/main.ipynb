{
 "cells": [
  {
   "cell_type": "markdown",
   "metadata": {},
   "source": [
    "## Words"
   ]
  },
  {
   "cell_type": "code",
   "execution_count": 2,
   "metadata": {},
   "outputs": [],
   "source": [
    "words = ['play', 'filling', 'bar', 'theatre', 'easygoing', 'date', 'lead', 'that', 'story',  'island']"
   ]
  },
  {
   "cell_type": "markdown",
   "metadata": {},
   "source": [
    "**Print every word in upper case**"
   ]
  },
  {
   "cell_type": "code",
   "execution_count": 3,
   "metadata": {},
   "outputs": [
    {
     "name": "stdout",
     "output_type": "stream",
     "text": [
      "PLAY\n",
      "FILLING\n",
      "BAR\n",
      "THEATRE\n",
      "EASYGOING\n",
      "DATE\n",
      "LEAD\n",
      "THAT\n",
      "STORY\n",
      "ISLAND\n"
     ]
    }
   ],
   "source": [
    "# your code here\n",
    "for word in words:\n",
    "    print(word.upper())"
   ]
  },
  {
   "cell_type": "markdown",
   "metadata": {},
   "source": [
    "**Create a new list containing only words with 5 or more letters**"
   ]
  },
  {
   "cell_type": "code",
   "execution_count": 4,
   "metadata": {},
   "outputs": [
    {
     "name": "stdout",
     "output_type": "stream",
     "text": [
      "filling\n",
      "theatre\n",
      "easygoing\n",
      "story\n",
      "island\n"
     ]
    }
   ],
   "source": [
    "# your code here\n",
    "l = []\n",
    "for w in words:\n",
    "    if len(w) >= 5:\n",
    "        print(w)"
   ]
  },
  {
   "cell_type": "markdown",
   "metadata": {},
   "source": [
    "**Print the first word starting with \"t\"**"
   ]
  },
  {
   "cell_type": "code",
   "execution_count": 5,
   "metadata": {},
   "outputs": [
    {
     "name": "stdout",
     "output_type": "stream",
     "text": [
      "theatre\n",
      "that\n"
     ]
    }
   ],
   "source": [
    "# your code here\n",
    "for i in words:\n",
    "    if i[0] == 't':\n",
    "        print(i)"
   ]
  },
  {
   "cell_type": "markdown",
   "metadata": {},
   "source": [
    "## Numbers"
   ]
  },
  {
   "cell_type": "markdown",
   "metadata": {},
   "source": [
    "**Create a list containing the square of every number from 1 to 10**"
   ]
  },
  {
   "cell_type": "code",
   "execution_count": 6,
   "metadata": {},
   "outputs": [
    {
     "name": "stdout",
     "output_type": "stream",
     "text": [
      "1\n",
      "4\n",
      "9\n",
      "16\n",
      "25\n",
      "36\n",
      "49\n",
      "64\n",
      "81\n",
      "100\n"
     ]
    }
   ],
   "source": [
    "# your code here\n",
    "for i in range (1,11):\n",
    "    print(i**2)"
   ]
  },
  {
   "cell_type": "markdown",
   "metadata": {},
   "source": [
    "**Print a list containing the square of every odd number from 1 to 10**"
   ]
  },
  {
   "cell_type": "code",
   "execution_count": 7,
   "metadata": {},
   "outputs": [
    {
     "name": "stdout",
     "output_type": "stream",
     "text": [
      "1\n",
      "9\n",
      "25\n",
      "49\n",
      "81\n"
     ]
    }
   ],
   "source": [
    "# your code here\n",
    "for i in range(1,11,2):\n",
    "    print(i**2)"
   ]
  },
  {
   "cell_type": "markdown",
   "metadata": {},
   "source": [
    "**Create a list with the squares of all multiples of 8 below 1000**"
   ]
  },
  {
   "cell_type": "code",
   "execution_count": 10,
   "metadata": {},
   "outputs": [
    {
     "data": {
      "text/plain": [
       "[64,\n",
       " 256,\n",
       " 576,\n",
       " 1024,\n",
       " 1600,\n",
       " 2304,\n",
       " 3136,\n",
       " 4096,\n",
       " 5184,\n",
       " 6400,\n",
       " 7744,\n",
       " 9216,\n",
       " 10816,\n",
       " 12544,\n",
       " 14400,\n",
       " 16384,\n",
       " 18496,\n",
       " 20736,\n",
       " 23104,\n",
       " 25600,\n",
       " 28224,\n",
       " 30976,\n",
       " 33856,\n",
       " 36864,\n",
       " 40000,\n",
       " 43264,\n",
       " 46656,\n",
       " 50176,\n",
       " 53824,\n",
       " 57600,\n",
       " 61504,\n",
       " 65536,\n",
       " 69696,\n",
       " 73984,\n",
       " 78400,\n",
       " 82944,\n",
       " 87616,\n",
       " 92416,\n",
       " 97344,\n",
       " 102400,\n",
       " 107584,\n",
       " 112896,\n",
       " 118336,\n",
       " 123904,\n",
       " 129600,\n",
       " 135424,\n",
       " 141376,\n",
       " 147456,\n",
       " 153664,\n",
       " 160000,\n",
       " 166464,\n",
       " 173056,\n",
       " 179776,\n",
       " 186624,\n",
       " 193600,\n",
       " 200704,\n",
       " 207936,\n",
       " 215296,\n",
       " 222784,\n",
       " 230400,\n",
       " 238144,\n",
       " 246016,\n",
       " 254016,\n",
       " 262144,\n",
       " 270400,\n",
       " 278784,\n",
       " 287296,\n",
       " 295936,\n",
       " 304704,\n",
       " 313600,\n",
       " 322624,\n",
       " 331776,\n",
       " 341056,\n",
       " 350464,\n",
       " 360000,\n",
       " 369664,\n",
       " 379456,\n",
       " 389376,\n",
       " 399424,\n",
       " 409600,\n",
       " 419904,\n",
       " 430336,\n",
       " 440896,\n",
       " 451584,\n",
       " 462400,\n",
       " 473344,\n",
       " 484416,\n",
       " 495616,\n",
       " 506944,\n",
       " 518400,\n",
       " 529984,\n",
       " 541696,\n",
       " 553536,\n",
       " 565504,\n",
       " 577600,\n",
       " 589824,\n",
       " 602176,\n",
       " 614656,\n",
       " 627264,\n",
       " 640000,\n",
       " 652864,\n",
       " 665856,\n",
       " 678976,\n",
       " 692224,\n",
       " 705600,\n",
       " 719104,\n",
       " 732736,\n",
       " 746496,\n",
       " 760384,\n",
       " 774400,\n",
       " 788544,\n",
       " 802816,\n",
       " 817216,\n",
       " 831744,\n",
       " 846400,\n",
       " 861184,\n",
       " 876096,\n",
       " 891136,\n",
       " 906304,\n",
       " 921600,\n",
       " 937024,\n",
       " 952576,\n",
       " 968256,\n",
       " 984064]"
      ]
     },
     "execution_count": 10,
     "metadata": {},
     "output_type": "execute_result"
    }
   ],
   "source": [
    "# your code here\n",
    "sq =[]\n",
    "for i in  range(1,1000):\n",
    "    if i % 8 ==0:\n",
    "        sq.append(i**2)\n",
    "sq"
   ]
  },
  {
   "cell_type": "code",
   "execution_count": 16,
   "metadata": {},
   "outputs": [
    {
     "name": "stdout",
     "output_type": "stream",
     "text": [
      "[64, 256, 576, 1024, 1600, 2304, 3136, 4096, 5184, 6400, 7744, 9216, 10816, 12544, 14400, 16384, 18496, 20736, 23104, 25600, 28224, 30976, 33856, 36864, 40000, 43264, 46656, 50176, 53824, 57600, 61504, 65536, 69696, 73984, 78400, 82944, 87616, 92416, 97344, 102400, 107584, 112896, 118336, 123904, 129600, 135424, 141376, 147456, 153664, 160000, 166464, 173056, 179776, 186624, 193600, 200704, 207936, 215296, 222784, 230400, 238144, 246016, 254016, 262144, 270400, 278784, 287296, 295936, 304704, 313600, 322624, 331776, 341056, 350464, 360000, 369664, 379456, 389376, 399424, 409600, 419904, 430336, 440896, 451584, 462400, 473344, 484416, 495616, 506944, 518400, 529984, 541696, 553536, 565504, 577600, 589824, 602176, 614656, 627264, 640000, 652864, 665856, 678976, 692224, 705600, 719104, 732736, 746496, 760384, 774400, 788544, 802816, 817216, 831744, 846400, 861184, 876096, 891136, 906304, 921600, 937024, 952576, 968256, 984064]\n"
     ]
    }
   ],
   "source": [
    "# differnt way to do it\n",
    "squares_of_multiples_of_8 = [x**2 for x in range(8, 1000, 8)]\n",
    "print(squares_of_multiples_of_8)"
   ]
  },
  {
   "cell_type": "markdown",
   "metadata": {},
   "source": [
    "## People"
   ]
  },
  {
   "cell_type": "code",
   "execution_count": 17,
   "metadata": {},
   "outputs": [],
   "source": [
    "people = [\n",
    "    {\n",
    "        \"name\": \"Juan\",\n",
    "        \"age\": 34,\n",
    "        \"n_kids\": 2\n",
    "    },\n",
    "    {\n",
    "        \"name\": \"Pepe\",\n",
    "        \"age\": 27,\n",
    "        \"n_kids\": 0\n",
    "    },\n",
    "    {\n",
    "        \"name\": \"Sonia\",\n",
    "        \"age\": 41,\n",
    "        \"n_kids\": 1\n",
    "    },\n",
    "    {\n",
    "        \"name\": \"Lucía\",\n",
    "        \"age\": 22,\n",
    "        \"n_kids\": 2\n",
    "    },\n",
    "    {\n",
    "        \"name\": \"Leo\",\n",
    "        \"age\": 55,\n",
    "        \"n_kids\": 5\n",
    "    }\n",
    "]"
   ]
  },
  {
   "cell_type": "markdown",
   "metadata": {},
   "source": [
    "**How many people are there?**"
   ]
  },
  {
   "cell_type": "code",
   "execution_count": 18,
   "metadata": {},
   "outputs": [
    {
     "name": "stdout",
     "output_type": "stream",
     "text": [
      "5\n"
     ]
    }
   ],
   "source": [
    "# your code here\n",
    "print(len(people))"
   ]
  },
  {
   "cell_type": "markdown",
   "metadata": {},
   "source": [
    "**How many people have kids**?"
   ]
  },
  {
   "cell_type": "code",
   "execution_count": 19,
   "metadata": {},
   "outputs": [
    {
     "data": {
      "text/plain": [
       "4"
      ]
     },
     "execution_count": 19,
     "metadata": {},
     "output_type": "execute_result"
    }
   ],
   "source": [
    "# your code here\n",
    "count =0 \n",
    "for person in people:\n",
    "    if person['n_kids'] > 0:\n",
    "        count +=1\n",
    "    \n",
    "count\n",
    "     "
   ]
  },
  {
   "cell_type": "markdown",
   "metadata": {},
   "source": [
    "**How many kids do they have in total?**"
   ]
  },
  {
   "cell_type": "code",
   "execution_count": 20,
   "metadata": {},
   "outputs": [
    {
     "data": {
      "text/plain": [
       "10"
      ]
     },
     "execution_count": 20,
     "metadata": {},
     "output_type": "execute_result"
    }
   ],
   "source": [
    "# your code here\n",
    "total = 0\n",
    "for person in people:\n",
    "        total +=person['n_kids']\n",
    "    \n",
    "total"
   ]
  },
  {
   "cell_type": "markdown",
   "metadata": {},
   "source": [
    "**In a year's time, names ending with \"a\" will have an extra kid. Create a list of dictionaries with people's info in a year's time**"
   ]
  },
  {
   "cell_type": "code",
   "execution_count": 21,
   "metadata": {},
   "outputs": [
    {
     "name": "stdout",
     "output_type": "stream",
     "text": [
      "[{'name': 'Juan', 'age': 34, 'n_kids': 2}, {'name': 'Pepe', 'age': 27, 'n_kids': 0}, {'name': 'Sonia', 'age': 41, 'n_kids': 2}, {'name': 'Lucía', 'age': 22, 'n_kids': 3}, {'name': 'Leo', 'age': 55, 'n_kids': 5}]\n"
     ]
    }
   ],
   "source": [
    "# your code here\n",
    "people_next_year = []\n",
    "\n",
    "for person in people:\n",
    "    if person['name'].endswith('a'):\n",
    "        new_children_count = person[\"n_kids\"] + 1\n",
    "    else:\n",
    "      \n",
    "        new_children_count = person[\"n_kids\"]\n",
    "\n",
    "  \n",
    "    new_info = {\n",
    "        \"name\": person[\"name\"],\n",
    "        \"age\" : person[\"age\"],\n",
    "        \"n_kids\": new_children_count\n",
    "    }\n",
    "\n",
    "\n",
    "    people_next_year.append(new_info)\n",
    "\n",
    "\n",
    "print(people_next_year)"
   ]
  }
 ],
 "metadata": {
  "kernelspec": {
   "display_name": "Python 3",
   "language": "python",
   "name": "python3"
  },
  "language_info": {
   "codemirror_mode": {
    "name": "ipython",
    "version": 3
   },
   "file_extension": ".py",
   "mimetype": "text/x-python",
   "name": "python",
   "nbconvert_exporter": "python",
   "pygments_lexer": "ipython3",
   "version": "3.11.4"
  },
  "toc": {
   "base_numbering": 1,
   "nav_menu": {},
   "number_sections": false,
   "sideBar": true,
   "skip_h1_title": false,
   "title_cell": "Table of Contents",
   "title_sidebar": "Contents",
   "toc_cell": false,
   "toc_position": {},
   "toc_section_display": true,
   "toc_window_display": true
  },
  "varInspector": {
   "cols": {
    "lenName": 16,
    "lenType": 16,
    "lenVar": 40
   },
   "kernels_config": {
    "python": {
     "delete_cmd_postfix": "",
     "delete_cmd_prefix": "del ",
     "library": "var_list.py",
     "varRefreshCmd": "print(var_dic_list())"
    },
    "r": {
     "delete_cmd_postfix": ") ",
     "delete_cmd_prefix": "rm(",
     "library": "var_list.r",
     "varRefreshCmd": "cat(var_dic_list()) "
    }
   },
   "types_to_exclude": [
    "module",
    "function",
    "builtin_function_or_method",
    "instance",
    "_Feature"
   ],
   "window_display": false
  }
 },
 "nbformat": 4,
 "nbformat_minor": 4
}
